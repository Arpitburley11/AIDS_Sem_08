{
  "nbformat": 4,
  "nbformat_minor": 0,
  "metadata": {
    "colab": {
      "provenance": []
    },
    "kernelspec": {
      "name": "python3",
      "display_name": "Python 3"
    },
    "language_info": {
      "name": "python"
    }
  },
  "cells": [
    {
      "cell_type": "code",
      "execution_count": null,
      "metadata": {
        "id": "ggj2-W_Z2Npv"
      },
      "outputs": [],
      "source": [
        "import numpy as np\n",
        "import matplotlib.pyplot as plt\n",
        "import seaborn as sns"
      ]
    },
    {
      "cell_type": "markdown",
      "source": [
        "## Define the Grid-World Environment"
      ],
      "metadata": {
        "id": "uQf9v_jq4UF5"
      }
    },
    {
      "cell_type": "code",
      "source": [
        "# Define Grid World Environment\n",
        "grid_size = (4, 4)  # 4x4 Grid\n",
        "gamma = 0.9  # Discount factor\n",
        "theta = 1e-6  # Convergence threshold\n",
        "\n",
        "# Initialize rewards\n",
        "reward_grid = np.zeros(grid_size)\n",
        "reward_grid[3, 3] = 1  # Goal state reward\n",
        "\n",
        "# Possible actions: Up, Down, Left, Right\n",
        "actions = [(-1, 0), (1, 0), (0, -1), (0, 1)]\n",
        "\n",
        "# Function to check if a state is terminal\n",
        "def is_terminal(state):\n",
        "    return state == (3, 3)  # Goal state"
      ],
      "metadata": {
        "id": "3knfFn8s20UH"
      },
      "execution_count": null,
      "outputs": []
    },
    {
      "cell_type": "markdown",
      "source": [
        "## Visualizing the Initial Grid World"
      ],
      "metadata": {
        "id": "Lp6Ob5AN5BRA"
      }
    },
    {
      "cell_type": "code",
      "source": [
        "def visualize_initial_grid(grid_size):\n",
        "    fig, ax = plt.subplots(figsize=(5, 5))\n",
        "\n",
        "    ax.set_xticks(np.arange(grid_size[1] + 1) - 0.5, minor=True)\n",
        "    ax.set_yticks(np.arange(grid_size[0] + 1) - 0.5, minor=True)\n",
        "    ax.grid(which=\"minor\", color=\"black\", linestyle='-', linewidth=2)\n",
        "    ax.tick_params(which=\"both\", bottom=False, left=False, labelbottom=False, labelleft=False)\n",
        "\n",
        "    for i in range(grid_size[0]):\n",
        "        for j in range(grid_size[1]):\n",
        "            if is_terminal((i, j)):\n",
        "                ax.text(j, i, \"G\", ha=\"center\", va=\"center\", fontsize=16, fontweight=\"bold\", color=\"red\")\n",
        "            else:\n",
        "                ax.text(j, i, \".\", ha=\"center\", va=\"center\", fontsize=16, fontweight=\"bold\")\n",
        "\n",
        "    ax.set_title(\"Initial Grid World\")\n",
        "    plt.show()\n",
        "\n",
        "# Call this function after defining the environment\n",
        "visualize_initial_grid(grid_size)"
      ],
      "metadata": {
        "colab": {
          "base_uri": "https://localhost:8080/",
          "height": 444
        },
        "id": "Fk0VMMxU4-0b",
        "outputId": "22cda8e6-bc3c-4b27-fa52-ff08ddd9c4ad"
      },
      "execution_count": null,
      "outputs": [
        {
          "output_type": "display_data",
          "data": {
            "text/plain": [
              "<Figure size 500x500 with 1 Axes>"
            ],
            "image/png": "[encoded data removed]"
          },
          "metadata": {}
        }
      ]
    },
    {
      "cell_type": "markdown",
      "source": [
        "## Implement Policy Evaluation"
      ],
      "metadata": {
        "id": "ah8muJRM4aFZ"
      }
    },
    {
      "cell_type": "code",
      "source": [
        "def policy_evaluation(policy, V, theta, gamma):\n",
        "    value_convergence = []  # Store value updates for plotting\n",
        "\n",
        "    while True:\n",
        "        delta = 0\n",
        "        new_V = np.copy(V)\n",
        "\n",
        "        for i in range(grid_size[0]):\n",
        "            for j in range(grid_size[1]):\n",
        "                if is_terminal((i, j)):\n",
        "                    continue  # Skip goal state\n",
        "\n",
        "                v = 0\n",
        "                for a, action in enumerate(actions):\n",
        "                    next_i, next_j = i + action[0], j + action[1]\n",
        "\n",
        "                    # Stay in place if out of bounds\n",
        "                    if 0 <= next_i < grid_size[0] and 0 <= next_j < grid_size[1]:\n",
        "                        next_state = (next_i, next_j)\n",
        "                    else:\n",
        "                        next_state = (i, j)\n",
        "\n",
        "                    # Bellman update\n",
        "                    v += policy[i, j, a] * (reward_grid[next_state] + gamma * V[next_state])\n",
        "\n",
        "                new_V[i, j] = v\n",
        "                delta = max(delta, abs(V[i, j] - v))\n",
        "\n",
        "        V = new_V\n",
        "        value_convergence.append(np.sum(V))  # Track total value\n",
        "\n",
        "        if delta < theta:\n",
        "            break\n",
        "\n",
        "    return V, value_convergence"
      ],
      "metadata": {
        "id": "MLay4j9q24oa"
      },
      "execution_count": null,
      "outputs": []
    },
    {
      "cell_type": "markdown",
      "source": [
        "## Implement Policy Iteration"
      ],
      "metadata": {
        "id": "auBf7tJA4hYZ"
      }
    },
    {
      "cell_type": "code",
      "source": [
        "def policy_iteration(grid_size, gamma, theta):\n",
        "    V = np.zeros(grid_size)\n",
        "    policy = np.random.choice([0, 1, 2, 3], size=grid_size)  # Random initial policy\n",
        "\n",
        "    value_convergence = []  # Track convergence over iterations\n",
        "\n",
        "    while True:\n",
        "        # Policy Evaluation\n",
        "        while True:\n",
        "            delta = 0\n",
        "            new_V = np.copy(V)\n",
        "\n",
        "            for i in range(grid_size[0]):\n",
        "                for j in range(grid_size[1]):\n",
        "                    if is_terminal((i, j)):\n",
        "                        continue\n",
        "\n",
        "                    action = actions[policy[i, j]]\n",
        "                    next_i, next_j = i + action[0], j + action[1]\n",
        "\n",
        "                    if 0 <= next_i < grid_size[0] and 0 <= next_j < grid_size[1]:\n",
        "                        next_state = (next_i, next_j)\n",
        "                    else:\n",
        "                        next_state = (i, j)\n",
        "\n",
        "                    # Bellman update\n",
        "                    v = reward_grid[next_state] + gamma * V[next_state]\n",
        "                    new_V[i, j] = v\n",
        "                    delta = max(delta, abs(V[i, j] - v))\n",
        "\n",
        "            V = new_V\n",
        "            value_convergence.append(np.sum(V))\n",
        "\n",
        "            if delta < theta:\n",
        "                break\n",
        "\n",
        "        # Policy Improvement\n",
        "        policy_stable = True\n",
        "\n",
        "        for i in range(grid_size[0]):\n",
        "            for j in range(grid_size[1]):\n",
        "                if is_terminal((i, j)):\n",
        "                    continue\n",
        "\n",
        "                action_values = []\n",
        "                for action in actions:\n",
        "                    next_i, next_j = i + action[0], j + action[1]\n",
        "\n",
        "                    if 0 <= next_i < grid_size[0] and 0 <= next_j < grid_size[1]:\n",
        "                        next_state = (next_i, next_j)\n",
        "                    else:\n",
        "                        next_state = (i, j)\n",
        "\n",
        "                    action_values.append(reward_grid[next_state] + gamma * V[next_state])\n",
        "\n",
        "                best_action = np.argmax(action_values)\n",
        "\n",
        "                if policy[i, j] != best_action:\n",
        "                    policy_stable = False\n",
        "\n",
        "                policy[i, j] = best_action\n",
        "\n",
        "        if policy_stable:\n",
        "            break\n",
        "\n",
        "    return V, policy, value_convergence"
      ],
      "metadata": {
        "id": "ddSdvFh_4gnJ"
      },
      "execution_count": null,
      "outputs": []
    },
    {
      "cell_type": "markdown",
      "source": [
        "## Visualization of the Grid World Before & After Execution"
      ],
      "metadata": {
        "id": "3ABAUIPV4rQK"
      }
    },
    {
      "cell_type": "code",
      "source": [
        "def visualize_grid_world(initial_policy, optimal_policy, grid_size):\n",
        "    fig, axes = plt.subplots(1, 2, figsize=(12, 6))\n",
        "\n",
        "    direction_arrows = {0: \"↑\", 1: \"↓\", 2: \"←\", 3: \"→\"}\n",
        "\n",
        "    for idx, (policy, title) in enumerate(zip([initial_policy, optimal_policy],\n",
        "                                              [\"Initial Random Policy\", \"Optimal Policy\"])):\n",
        "        ax = axes[idx]\n",
        "        ax.set_xticks(np.arange(grid_size[1] + 1) - 0.5, minor=True)\n",
        "        ax.set_yticks(np.arange(grid_size[0] + 1) - 0.5, minor=True)\n",
        "        ax.grid(which=\"minor\", color=\"black\", linestyle='-', linewidth=2)\n",
        "        ax.tick_params(which=\"both\", bottom=False, left=False, labelbottom=False, labelleft=False)\n",
        "\n",
        "        for i in range(grid_size[0]):\n",
        "            for j in range(grid_size[1]):\n",
        "                if is_terminal((i, j)):\n",
        "                    ax.text(j, i, \"G\", ha=\"center\", va=\"center\", fontsize=16, fontweight=\"bold\", color=\"red\")\n",
        "                else:\n",
        "                    ax.text(j, i, direction_arrows[policy[i, j]], ha=\"center\", va=\"center\", fontsize=16, fontweight=\"bold\")\n",
        "\n",
        "        ax.set_title(title)\n",
        "\n",
        "    plt.show()"
      ],
      "metadata": {
        "id": "2gMZL6Gn4sLy"
      },
      "execution_count": null,
      "outputs": []
    },
    {
      "cell_type": "markdown",
      "source": [
        "## Plot Value Function Convergence"
      ],
      "metadata": {
        "id": "pWQLZeJX4xN6"
      }
    },
    {
      "cell_type": "code",
      "source": [
        "def plot_convergence(value_convergence):\n",
        "    plt.figure(figsize=(8, 5))\n",
        "    plt.plot(value_convergence, marker=\"o\", linestyle=\"-\", color=\"b\")\n",
        "    plt.xlabel(\"Iterations\")\n",
        "    plt.ylabel(\"Total State Value\")\n",
        "    plt.title(\"Value Function Convergence\")\n",
        "    plt.grid(True)\n",
        "    plt.show()"
      ],
      "metadata": {
        "id": "MhSEo2oK28tT"
      },
      "execution_count": null,
      "outputs": []
    },
    {
      "cell_type": "markdown",
      "source": [
        "## Execute the Policy Iteration Algorithm"
      ],
      "metadata": {
        "id": "mEuz9USV40PB"
      }
    },
    {
      "cell_type": "code",
      "source": [
        "# Generate a random initial policy for visualization before execution\n",
        "initial_policy = np.random.choice([0, 1, 2, 3], size=grid_size)\n",
        "\n",
        "# Run Policy Iteration\n",
        "optimal_values, optimal_policy, value_convergence = policy_iteration(grid_size, gamma, theta)\n",
        "\n",
        "# Visualize Grid World Before and After Execution\n",
        "visualize_grid_world(initial_policy, optimal_policy, grid_size)\n",
        "\n",
        "# Plot Convergence of Value Function\n",
        "plot_convergence(value_convergence)"
      ],
      "metadata": {
        "colab": {
          "base_uri": "https://localhost:8080/",
          "height": 991
        },
        "id": "gB8tgEEj2_eD",
        "outputId": "7f348c93-6bf7-4f69-e252-f5ee80587752"
      },
      "execution_count": null,
      "outputs": [
        {
          "output_type": "display_data",
          "data": {
            "text/plain": [
              "<Figure size 1200x600 with 2 Axes>"
            ],
            "image/png": "[encoded data removed]"
          },
          "metadata": {}
        },
        {
          "output_type": "display_data",
          "data": {
            "text/plain": [
              "<Figure size 800x500 with 1 Axes>"
            ],
            "image/png": "[encoded data removed]"
          },
          "metadata": {}
        }
      ]
    }
  ]
}